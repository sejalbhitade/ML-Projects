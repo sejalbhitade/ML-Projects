{
 "cells": [
  {
   "cell_type": "code",
   "execution_count": 1,
   "id": "c7369f49",
   "metadata": {},
   "outputs": [],
   "source": [
    "import pandas as pd\n",
    "import numpy as np\n",
    "import matplotlib.pyplot as plt\n",
    "import seaborn as sns\n",
    "\n",
    "from sklearn.model_selection import train_test_split\n",
    "from sklearn.linear_model import LogisticRegression\n",
    "from sklearn.svm import SVC\n",
    "from sklearn.tree import DecisionTreeRegressor\n",
    "from sklearn import tree\n",
    "from sklearn.metrics import classification_report,r2_score\n",
    "\n",
    "\n",
    "import warnings\n",
    "warnings.filterwarnings('ignore')"
   ]
  },
  {
   "cell_type": "code",
   "execution_count": 2,
   "id": "8ec0d1cb",
   "metadata": {},
   "outputs": [
    {
     "data": {
      "text/html": [
       "<div>\n",
       "<style scoped>\n",
       "    .dataframe tbody tr th:only-of-type {\n",
       "        vertical-align: middle;\n",
       "    }\n",
       "\n",
       "    .dataframe tbody tr th {\n",
       "        vertical-align: top;\n",
       "    }\n",
       "\n",
       "    .dataframe thead th {\n",
       "        text-align: right;\n",
       "    }\n",
       "</style>\n",
       "<table border=\"1\" class=\"dataframe\">\n",
       "  <thead>\n",
       "    <tr style=\"text-align: right;\">\n",
       "      <th></th>\n",
       "      <th>age</th>\n",
       "      <th>sex</th>\n",
       "      <th>bmi</th>\n",
       "      <th>children</th>\n",
       "      <th>smoker</th>\n",
       "      <th>region</th>\n",
       "      <th>charges</th>\n",
       "    </tr>\n",
       "  </thead>\n",
       "  <tbody>\n",
       "    <tr>\n",
       "      <th>0</th>\n",
       "      <td>19</td>\n",
       "      <td>female</td>\n",
       "      <td>27.900</td>\n",
       "      <td>0</td>\n",
       "      <td>yes</td>\n",
       "      <td>southwest</td>\n",
       "      <td>16884.92400</td>\n",
       "    </tr>\n",
       "    <tr>\n",
       "      <th>1</th>\n",
       "      <td>18</td>\n",
       "      <td>male</td>\n",
       "      <td>33.770</td>\n",
       "      <td>1</td>\n",
       "      <td>no</td>\n",
       "      <td>southeast</td>\n",
       "      <td>1725.55230</td>\n",
       "    </tr>\n",
       "    <tr>\n",
       "      <th>2</th>\n",
       "      <td>28</td>\n",
       "      <td>male</td>\n",
       "      <td>33.000</td>\n",
       "      <td>3</td>\n",
       "      <td>no</td>\n",
       "      <td>southeast</td>\n",
       "      <td>4449.46200</td>\n",
       "    </tr>\n",
       "    <tr>\n",
       "      <th>3</th>\n",
       "      <td>33</td>\n",
       "      <td>male</td>\n",
       "      <td>22.705</td>\n",
       "      <td>0</td>\n",
       "      <td>no</td>\n",
       "      <td>northwest</td>\n",
       "      <td>21984.47061</td>\n",
       "    </tr>\n",
       "    <tr>\n",
       "      <th>4</th>\n",
       "      <td>32</td>\n",
       "      <td>male</td>\n",
       "      <td>28.880</td>\n",
       "      <td>0</td>\n",
       "      <td>no</td>\n",
       "      <td>northwest</td>\n",
       "      <td>3866.85520</td>\n",
       "    </tr>\n",
       "  </tbody>\n",
       "</table>\n",
       "</div>"
      ],
      "text/plain": [
       "   age     sex     bmi  children smoker     region      charges\n",
       "0   19  female  27.900         0    yes  southwest  16884.92400\n",
       "1   18    male  33.770         1     no  southeast   1725.55230\n",
       "2   28    male  33.000         3     no  southeast   4449.46200\n",
       "3   33    male  22.705         0     no  northwest  21984.47061\n",
       "4   32    male  28.880         0     no  northwest   3866.85520"
      ]
     },
     "execution_count": 2,
     "metadata": {},
     "output_type": "execute_result"
    }
   ],
   "source": [
    "df=pd.read_csv('insurance.csv')\n",
    "df.head()"
   ]
  },
  {
   "cell_type": "code",
   "execution_count": 3,
   "id": "4e4406bb",
   "metadata": {},
   "outputs": [
    {
     "name": "stdout",
     "output_type": "stream",
     "text": [
      "<class 'pandas.core.frame.DataFrame'>\n",
      "RangeIndex: 1338 entries, 0 to 1337\n",
      "Data columns (total 7 columns):\n",
      " #   Column    Non-Null Count  Dtype  \n",
      "---  ------    --------------  -----  \n",
      " 0   age       1338 non-null   int64  \n",
      " 1   sex       1338 non-null   object \n",
      " 2   bmi       1338 non-null   float64\n",
      " 3   children  1338 non-null   int64  \n",
      " 4   smoker    1338 non-null   object \n",
      " 5   region    1338 non-null   object \n",
      " 6   charges   1338 non-null   float64\n",
      "dtypes: float64(2), int64(2), object(3)\n",
      "memory usage: 73.3+ KB\n"
     ]
    }
   ],
   "source": [
    "df.info()"
   ]
  },
  {
   "cell_type": "markdown",
   "id": "46e102a7",
   "metadata": {},
   "source": [
    "## Encoding"
   ]
  },
  {
   "cell_type": "code",
   "execution_count": 9,
   "id": "7b6f2be0",
   "metadata": {},
   "outputs": [],
   "source": [
    "from sklearn.preprocessing import LabelEncoder\n",
    "le=LabelEncoder()"
   ]
  },
  {
   "cell_type": "code",
   "execution_count": 11,
   "id": "8fd9b4fb",
   "metadata": {},
   "outputs": [],
   "source": [
    "df['sex']=le.fit_transform(df['sex'])\n",
    "df['smoker']=le.fit_transform(df['smoker'])\n",
    "df['region']=le.fit_transform(df['region'])"
   ]
  },
  {
   "cell_type": "code",
   "execution_count": 12,
   "id": "898b3c25",
   "metadata": {},
   "outputs": [],
   "source": [
    "df.drop('sex',axis=1,inplace=True)"
   ]
  },
  {
   "cell_type": "code",
   "execution_count": 13,
   "id": "36f2f401",
   "metadata": {},
   "outputs": [],
   "source": [
    "x=df.iloc[:,:-1]\n",
    "y=df['charges']"
   ]
  },
  {
   "cell_type": "code",
   "execution_count": 14,
   "id": "46b790b2",
   "metadata": {},
   "outputs": [],
   "source": [
    "from sklearn.model_selection import train_test_split\n",
    "xtrain, xtest, ytrain, ytest=train_test_split(x,y, test_size=0.30, random_state=1)"
   ]
  },
  {
   "cell_type": "code",
   "execution_count": 27,
   "id": "a13666e8",
   "metadata": {},
   "outputs": [],
   "source": [
    "logreg=LogisticRegression()\n",
    "svm=SVC()\n",
    "dtr=DecisionTreeRegressor()"
   ]
  },
  {
   "cell_type": "code",
   "execution_count": 28,
   "id": "e6cda924",
   "metadata": {},
   "outputs": [],
   "source": [
    "from sklearn.metrics import r2_score, mean_squared_error, classification_report\n",
    "def mymodel(model):\n",
    "    model.fit(xtrain,ytrain)\n",
    "    y_train_pred=model.predict(xtrain)\n",
    "    y_test_pred=model.predict(xtest)\n",
    "    \n",
    "    train_r2= r2_score(ytrain,y_train_pred)\n",
    "    test_r2= r2_score(ytest,y_test_pred)\n",
    "    \n",
    "    print(f\"r2_score_train {train_r2}\")\n",
    "    print(f\"r2_score_test {test_r2}\")"
   ]
  },
  {
   "cell_type": "code",
   "execution_count": 29,
   "id": "97188649",
   "metadata": {},
   "outputs": [
    {
     "name": "stdout",
     "output_type": "stream",
     "text": [
      "r2_score_train 0.9999991404955778\n",
      "r2_score_test 0.7051542813073922\n"
     ]
    }
   ],
   "source": [
    "mymodel(dtr)"
   ]
  },
  {
   "cell_type": "code",
   "execution_count": 32,
   "id": "0f7a94f9",
   "metadata": {},
   "outputs": [
    {
     "name": "stdout",
     "output_type": "stream",
     "text": [
      "max_dept=1 is 0.5848737597563066\n",
      "max_dept=2 is 0.8192515924770754\n",
      "max_dept=3 is 0.8435058268122119\n",
      "max_dept=4 is 0.8459769178240992\n",
      "max_dept=5 is 0.8426512684690122\n",
      "max_dept=6 is 0.8364635258742146\n",
      "max_dept=7 is 0.80103287042667\n",
      "max_dept=8 is 0.7471547167997719\n",
      "max_dept=9 is 0.7211353456869438\n",
      "max_dept=10 is 0.7106883728195935\n",
      "max_dept=11 is 0.7226363904070301\n",
      "max_dept=12 is 0.6965082179290665\n",
      "max_dept=13 is 0.7032990001863745\n",
      "max_dept=14 is 0.7011324758376689\n",
      "max_dept=15 is 0.6873474408550198\n",
      "max_dept=16 is 0.705735079880059\n",
      "max_dept=17 is 0.7037390857131596\n",
      "max_dept=18 is 0.7039757228226509\n",
      "max_dept=19 is 0.6944601901561338\n",
      "max_dept=20 is 0.6930150985127724\n",
      "max_dept=21 is 0.7039034430384192\n",
      "max_dept=22 is 0.7092655301038467\n",
      "max_dept=23 is 0.6926704707244127\n",
      "max_dept=24 is 0.6900453885796977\n",
      "max_dept=25 is 0.6836940243900081\n",
      "max_dept=26 is 0.71369546488717\n",
      "max_dept=27 is 0.7160562049721035\n",
      "max_dept=28 is 0.6768104932331185\n",
      "max_dept=29 is 0.7138056594208855\n"
     ]
    }
   ],
   "source": [
    "for i in range(1,30):\n",
    "    dtr1=DecisionTreeRegressor(max_depth=i)\n",
    "    dtr1.fit(xtrain,ytrain)\n",
    "    ypred=dtr1.predict(xtest)\n",
    "    ac=r2_score(ytest,ypred)\n",
    "    print(f\"max_dept={i} is {ac}\")"
   ]
  },
  {
   "cell_type": "code",
   "execution_count": 46,
   "id": "6edeb8d6",
   "metadata": {},
   "outputs": [
    {
     "name": "stdout",
     "output_type": "stream",
     "text": [
      "r2_score_train 0.8287932083173397\n",
      "r2_score_test 0.8192515924770754\n"
     ]
    }
   ],
   "source": [
    "dt2=DecisionTreeRegressor(max_depth=2)\n",
    "mymodel(dt2)"
   ]
  },
  {
   "cell_type": "code",
   "execution_count": 47,
   "id": "a8f33f28",
   "metadata": {},
   "outputs": [
    {
     "data": {
      "text/plain": [
       "0.8287932083173397"
      ]
     },
     "execution_count": 47,
     "metadata": {},
     "output_type": "execute_result"
    }
   ],
   "source": [
    "dt2.score(xtrain,ytrain)"
   ]
  },
  {
   "cell_type": "code",
   "execution_count": 48,
   "id": "bc28b5fb",
   "metadata": {},
   "outputs": [
    {
     "data": {
      "text/plain": [
       "0.8192515924770754"
      ]
     },
     "execution_count": 48,
     "metadata": {},
     "output_type": "execute_result"
    }
   ],
   "source": [
    "dt2.score(xtest,ytest)"
   ]
  },
  {
   "cell_type": "code",
   "execution_count": 49,
   "id": "acf5a1e6",
   "metadata": {},
   "outputs": [
    {
     "name": "stdout",
     "output_type": "stream",
     "text": [
      "min_samples_leaf=1 is 0.8526307666515364\n",
      "min_samples_leaf=2 is 0.8526307666515364\n",
      "min_samples_leaf=3 is 0.8526307666515364\n",
      "min_samples_leaf=4 is 0.8526307666515364\n",
      "min_samples_leaf=5 is 0.8526307666515364\n",
      "min_samples_leaf=6 is 0.8526307666515364\n",
      "min_samples_leaf=7 is 0.8526307666515364\n",
      "min_samples_leaf=8 is 0.8526307666515364\n",
      "min_samples_leaf=9 is 0.8526307666515364\n",
      "min_samples_leaf=10 is 0.8526307666515364\n",
      "min_samples_leaf=11 is 0.8526307666515364\n",
      "min_samples_leaf=12 is 0.8526307666515364\n",
      "min_samples_leaf=13 is 0.8526307666515364\n",
      "min_samples_leaf=14 is 0.8526307666515364\n",
      "min_samples_leaf=15 is 0.8526307666515364\n",
      "min_samples_leaf=16 is 0.8526307666515364\n",
      "min_samples_leaf=17 is 0.8526307666515364\n",
      "min_samples_leaf=18 is 0.8526307666515364\n",
      "min_samples_leaf=19 is 0.8526307666515364\n",
      "min_samples_leaf=20 is 0.8526307666515364\n",
      "min_samples_leaf=21 is 0.8526307666515364\n",
      "min_samples_leaf=22 is 0.8526307666515364\n",
      "min_samples_leaf=23 is 0.8526307666515364\n",
      "min_samples_leaf=24 is 0.8526307666515364\n",
      "min_samples_leaf=25 is 0.8526307666515364\n",
      "min_samples_leaf=26 is 0.8526307666515364\n",
      "min_samples_leaf=27 is 0.8526307666515364\n",
      "min_samples_leaf=28 is 0.8526307666515364\n",
      "min_samples_leaf=29 is 0.8526307666515364\n"
     ]
    }
   ],
   "source": [
    "for i in range(1,30):\n",
    "    dtr2=DecisionTreeRegressor(min_samples_leaf=24)\n",
    "    dtr2.fit(xtrain,ytrain)\n",
    "    ypred=dtr2.predict(xtest)\n",
    "    ac=r2_score(ytest,ypred)\n",
    "    print(f\"min_samples_leaf={i} is {ac}\")"
   ]
  },
  {
   "cell_type": "code",
   "execution_count": 80,
   "id": "bd48aa32",
   "metadata": {},
   "outputs": [
    {
     "name": "stdout",
     "output_type": "stream",
     "text": [
      "r2_score_train 0.8669710289431792\n",
      "r2_score_test 0.853147424262189\n"
     ]
    }
   ],
   "source": [
    "dtr2=DecisionTreeRegressor(min_samples_leaf=40)\n",
    "mymodel(dtr2)"
   ]
  },
  {
   "cell_type": "code",
   "execution_count": 81,
   "id": "82d91ec7",
   "metadata": {},
   "outputs": [
    {
     "data": {
      "text/plain": [
       "0.8669710289431792"
      ]
     },
     "execution_count": 81,
     "metadata": {},
     "output_type": "execute_result"
    }
   ],
   "source": [
    "dtr2.score(xtrain,ytrain)"
   ]
  },
  {
   "cell_type": "code",
   "execution_count": 82,
   "id": "507c0cf4",
   "metadata": {},
   "outputs": [
    {
     "data": {
      "text/plain": [
       "0.853147424262189"
      ]
     },
     "execution_count": 82,
     "metadata": {},
     "output_type": "execute_result"
    }
   ],
   "source": [
    "dtr2.score(xtest,ytest)"
   ]
  },
  {
   "cell_type": "code",
   "execution_count": null,
   "id": "4ca569e0",
   "metadata": {},
   "outputs": [],
   "source": []
  }
 ],
 "metadata": {
  "kernelspec": {
   "display_name": "Python 3 (ipykernel)",
   "language": "python",
   "name": "python3"
  },
  "language_info": {
   "codemirror_mode": {
    "name": "ipython",
    "version": 3
   },
   "file_extension": ".py",
   "mimetype": "text/x-python",
   "name": "python",
   "nbconvert_exporter": "python",
   "pygments_lexer": "ipython3",
   "version": "3.10.9"
  }
 },
 "nbformat": 4,
 "nbformat_minor": 5
}
